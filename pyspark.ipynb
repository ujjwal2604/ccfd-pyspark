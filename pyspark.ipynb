{
 "cells": [
  {
   "cell_type": "markdown",
   "metadata": {},
   "source": [
    "# Credit Card Fraud Detection with Spark and Python"
   ]
  },
  {
   "cell_type": "markdown",
   "metadata": {},
   "source": [
    "AML model built on the top of pyspark and trained on the [dataset](https://www.kaggle.com/datasets/mlg-ulb/creditcardfraud) which contains transactions made by credit cards in September 2013 by european cardholders. \\\n",
    "Made by \n",
    "- Ujjwal Kadam (2019UCS2022)\n",
    "- Ujjwal (2019UCS1633)\n",
    "- Tarush Bajaj (2019UCS1633) "
   ]
  },
  {
   "cell_type": "code",
   "execution_count": 1,
   "metadata": {
    "colab": {
     "base_uri": "https://localhost:8080/"
    },
    "id": "FrtspDeCxHqq",
    "outputId": "d9f9adff-b959-47fc-93bf-fb7adaa9d7d7"
   },
   "outputs": [
    {
     "name": "stdout",
     "output_type": "stream",
     "text": [
      "\u001b[33mDEPRECATION: Configuring installation scheme with distutils config files is deprecated and will no longer work in the near future. If you are using a Homebrew or Linuxbrew Python, please see discussion at https://github.com/Homebrew/homebrew-core/issues/76621\u001b[0m\n",
      "Requirement already satisfied: pyspark in /usr/local/lib/python3.9/site-packages (3.2.1)\n",
      "Requirement already satisfied: py4j==0.10.9.3 in /usr/local/lib/python3.9/site-packages (from pyspark) (0.10.9.3)\n",
      "\u001b[33mWARNING: You are using pip version 21.3.1; however, version 22.0.4 is available.\n",
      "You should consider upgrading via the '/usr/local/opt/python@3.9/bin/python3.9 -m pip install --upgrade pip' command.\u001b[0m\n",
      "\u001b[33mDEPRECATION: Configuring installation scheme with distutils config files is deprecated and will no longer work in the near future. If you are using a Homebrew or Linuxbrew Python, please see discussion at https://github.com/Homebrew/homebrew-core/issues/76621\u001b[0m\n",
      "Requirement already satisfied: findspark in /usr/local/lib/python3.9/site-packages (2.0.1)\n",
      "\u001b[33mWARNING: You are using pip version 21.3.1; however, version 22.0.4 is available.\n",
      "You should consider upgrading via the '/usr/local/opt/python@3.9/bin/python3.9 -m pip install --upgrade pip' command.\u001b[0m\n"
     ]
    }
   ],
   "source": [
    "# Installing pyspark\n",
    "\n",
    "!pip3 install pyspark\n",
    "!pip3 install findspark"
   ]
  },
  {
   "cell_type": "code",
   "execution_count": 25,
   "metadata": {
    "id": "AOTx_R23xb77"
   },
   "outputs": [],
   "source": [
    "# importing modules\n",
    "\n",
    "import findspark\n",
    "findspark.init()\n",
    "findspark.find()\n",
    "from pyspark.sql import SparkSession\n",
    "\n",
    "from pyspark.ml.feature import VectorAssembler\n",
    "from pyspark.ml.feature import StandardScaler\n",
    "\n",
    "from pyspark.ml.classification import LogisticRegression\n",
    "from pyspark.ml.classification import NaiveBayes\n",
    "from pyspark.ml.classification import GBTClassifier\n",
    "from pyspark.ml.classification import RandomForestClassifier\n",
    "\n",
    "from pyspark.mllib.evaluation import BinaryClassificationMetrics\n",
    "from pyspark.ml.evaluation import MulticlassClassificationEvaluator\n",
    "\n",
    "from pyspark.sql.functions import explode\n",
    "from pyspark.sql.functions import split"
   ]
  },
  {
   "cell_type": "code",
   "execution_count": 26,
   "metadata": {
    "id": "ysbnTRgWx286"
   },
   "outputs": [],
   "source": [
    "# initializing the pyspark\n",
    "spark = SparkSession.builder.appName(\"Classification with Spark\").getOrCreate()"
   ]
  },
  {
   "cell_type": "code",
   "execution_count": 29,
   "metadata": {
    "colab": {
     "base_uri": "https://localhost:8080/"
    },
    "id": "1V13z82Tx532",
    "outputId": "0d7cdffb-b4fc-4e9d-b3b3-70d3e0aa875c"
   },
   "outputs": [
    {
     "name": "stderr",
     "output_type": "stream",
     "text": [
      "                                                                                \r"
     ]
    },
    {
     "data": {
      "text/plain": [
       "pyspark.sql.dataframe.DataFrame"
      ]
     },
     "execution_count": 29,
     "metadata": {},
     "output_type": "execute_result"
    }
   ],
   "source": [
    "# reading the dataset\n",
    "data_O = spark.read.load('creditcard.csv', \n",
    "                          format='csv', \n",
    "                          header='true', \n",
    "                          inferSchema='true')\n",
    "type(data_O)"
   ]
  },
  {
   "cell_type": "code",
   "execution_count": 30,
   "metadata": {
    "colab": {
     "base_uri": "https://localhost:8080/"
    },
    "id": "s7mfeg0ezNlz",
    "outputId": "ed6ed690-ad6b-448b-bafd-d66c0a33f1b0"
   },
   "outputs": [
    {
     "name": "stderr",
     "output_type": "stream",
     "text": [
      "[Stage 70:==============>                                           (1 + 3) / 4]\r"
     ]
    },
    {
     "name": "stdout",
     "output_type": "stream",
     "text": [
      "+-----+------+\n",
      "|Class| count|\n",
      "+-----+------+\n",
      "|    1|   492|\n",
      "|    0|284315|\n",
      "+-----+------+\n",
      "\n"
     ]
    },
    {
     "name": "stderr",
     "output_type": "stream",
     "text": [
      "\r",
      "                                                                                \r"
     ]
    }
   ],
   "source": [
    "# the number of fraud vs number of none-fraud records\n",
    "\n",
    "classFreq = data_O.groupBy(\"Class\").count()\n",
    "classFreq.show()"
   ]
  },
  {
   "cell_type": "code",
   "execution_count": 31,
   "metadata": {
    "id": "v_LmXWofzSAD"
   },
   "outputs": [
    {
     "name": "stderr",
     "output_type": "stream",
     "text": [
      "                                                                                \r"
     ]
    },
    {
     "data": {
      "text/plain": [
       "(984, 31)"
      ]
     },
     "execution_count": 31,
     "metadata": {},
     "output_type": "execute_result"
    }
   ],
   "source": [
    "# convert the data to pandas type and making the dataset more balanced\n",
    "import pandas as pd\n",
    "data= data_O.toPandas()\n",
    "data= data.sample(frac=1)\n",
    "\n",
    "# amount of fraud classes 492 rows.\n",
    "fraud_df = data.loc[data['Class'] == 1]\n",
    "non_fraud_df = data.loc[data['Class'] == 0][:492]\n",
    "normal_distributed_df = pd.concat([fraud_df, non_fraud_df])\n",
    "\n",
    "# Shuffle dataframe rows\n",
    "new_df = normal_distributed_df.sample(frac=1, random_state=42)\n",
    "new_df.shape"
   ]
  },
  {
   "cell_type": "code",
   "execution_count": 32,
   "metadata": {
    "colab": {
     "base_uri": "https://localhost:8080/"
    },
    "id": "kwyKLBW-zpxo",
    "outputId": "f8afd144-dc2d-4ff7-941c-c4972f9afe1b"
   },
   "outputs": [
    {
     "name": "stdout",
     "output_type": "stream",
     "text": [
      "Distribution of the Classes in the subsample dataset\n",
      "0    0.5\n",
      "1    0.5\n",
      "Name: Class, dtype: float64\n"
     ]
    },
    {
     "name": "stderr",
     "output_type": "stream",
     "text": [
      "/usr/local/lib/python3.9/site-packages/seaborn/_decorators.py:36: FutureWarning: Pass the following variable as a keyword arg: x. From version 0.12, the only valid positional argument will be `data`, and passing other arguments without an explicit keyword will result in an error or misinterpretation.\n",
      "  warnings.warn(\n"
     ]
    },
    {
     "data": {
      "image/png": "[encoded data removed]",
      "text/plain": [
       "<Figure size 432x288 with 1 Axes>"
      ]
     },
     "metadata": {
      "needs_background": "light"
     },
     "output_type": "display_data"
    }
   ],
   "source": [
    "# plot of frauds vs non fraud count\n",
    "\n",
    "import seaborn as sns\n",
    "from matplotlib import pyplot as plt\n",
    "print('Distribution of the Classes in the subsample dataset')\n",
    "print(new_df['Class'].value_counts()/len(new_df))\n",
    "sns.countplot('Class', data=new_df)\n",
    "plt.title('Equally Distributed Classes', fontsize=14)\n",
    "plt.show()"
   ]
  },
  {
   "cell_type": "code",
   "execution_count": 33,
   "metadata": {
    "colab": {
     "base_uri": "https://localhost:8080/"
    },
    "id": "7_5l3EWe0RnL",
    "outputId": "b08db104-6e19-4424-81db-2670e3088f5b"
   },
   "outputs": [
    {
     "data": {
      "image/png": "[encoded data removed]",
      "text/plain": [
       "<Figure size 1728x1440 with 4 Axes>"
      ]
     },
     "metadata": {
      "needs_background": "light"
     },
     "output_type": "display_data"
    }
   ],
   "source": [
    "# Make sure we use the subsample in our correlation\n",
    "f, (ax1, ax2) = plt.subplots(2, 1, figsize=(24,20))\n",
    "# Entire DataFrame\n",
    "corr = data.corr()\n",
    "sns.heatmap(corr, cmap='coolwarm_r', annot_kws={'size':20}, ax=ax1)\n",
    "ax1.set_title(\"Imbalanced Correlation Matrix \\n (don't use for reference)\", fontsize=14)\n",
    "sub_sample_corr = new_df.corr()\n",
    "sns.heatmap(sub_sample_corr, cmap='coolwarm_r', annot_kws={'size':20}, ax=ax2)\n",
    "ax2.set_title('SubSample Correlation Matrix \\n (use for reference)', fontsize=14)\n",
    "plt.show()"
   ]
  },
  {
   "cell_type": "code",
   "execution_count": 42,
   "metadata": {
    "id": "97eEVcRi1o7R"
   },
   "outputs": [],
   "source": [
    "# converting back the pandas to spark.sql dataframe and adding index to keep trace of the rows\n",
    "\n",
    "dfff = spark.createDataFrame(new_df)\n",
    "from pyspark.sql.functions import *\n",
    "from pyspark.sql.window import Window\n",
    "win = Window().orderBy('Time')\n",
    "dfff = dfff.withColumn(\"idx\", row_number().over(win))"
   ]
  },
  {
   "cell_type": "markdown",
   "metadata": {
    "id": "dwLM-Be51r8t"
   },
   "source": [
    "# Machine Learning"
   ]
  },
  {
   "cell_type": "code",
   "execution_count": 43,
   "metadata": {
    "colab": {
     "base_uri": "https://localhost:8080/"
    },
    "id": "ABxmFN0f1tRh",
    "outputId": "d06d75d0-7004-4336-98a5-61dca1bc6cd8"
   },
   "outputs": [],
   "source": [
    "from pyspark.ml import Pipeline\n",
    "from pyspark.ml.classification import GBTClassifier\n",
    "from pyspark.ml.feature import VectorIndexer, VectorAssembler\n",
    "from pyspark.ml.evaluation import BinaryClassificationEvaluator\n",
    "from pyspark.ml.linalg import DenseVector"
   ]
  },
  {
   "cell_type": "code",
   "execution_count": 44,
   "metadata": {
    "id": "aHi2k_Od1utW"
   },
   "outputs": [
    {
     "name": "stderr",
     "output_type": "stream",
     "text": [
      "22/04/21 22:21:22 WARN WindowExec: No Partition Defined for Window operation! Moving all data to a single partition, this can cause serious performance degradation.\n",
      "22/04/21 22:21:22 WARN WindowExec: No Partition Defined for Window operation! Moving all data to a single partition, this can cause serious performance degradation.\n",
      "22/04/21 22:21:23 WARN WindowExec: No Partition Defined for Window operation! Moving all data to a single partition, this can cause serious performance degradation.\n",
      "                                                                                \r"
     ]
    }
   ],
   "source": [
    "training_df = dfff.rdd.map(lambda x: (DenseVector(x[0:29]),x[30],x[31])) # Dense Vector required in spark to train the data\n",
    "training_df = spark.createDataFrame(training_df,[\"features\",\"label\",\"index\"])\n",
    "training_df = training_df.select(\"index\",\"features\",\"label\")\n",
    "train_data, test_data = training_df.randomSplit([.8,.2],seed=1234)"
   ]
  },
  {
   "cell_type": "code",
   "execution_count": 45,
   "metadata": {
    "colab": {
     "base_uri": "https://localhost:8080/"
    },
    "id": "TrICj9mE143o",
    "outputId": "d38d1847-a6b8-40ef-c86c-7b61aac09203"
   },
   "outputs": [
    {
     "name": "stderr",
     "output_type": "stream",
     "text": [
      "\r",
      "[Stage 78:>                                                         (0 + 1) / 1]\r"
     ]
    },
    {
     "name": "stdout",
     "output_type": "stream",
     "text": [
      "+-----+-----+\n",
      "|label|count|\n",
      "+-----+-----+\n",
      "|    0|  390|\n",
      "|    1|  362|\n",
      "+-----+-----+\n",
      "\n"
     ]
    },
    {
     "name": "stderr",
     "output_type": "stream",
     "text": [
      "\r",
      "                                                                                \r"
     ]
    }
   ],
   "source": [
    "# count the training and the testing datasets\n",
    "train_data.groupBy(\"label\").count().show()"
   ]
  },
  {
   "cell_type": "code",
   "execution_count": 46,
   "metadata": {
    "id": "NA7kV8RA16Q-"
   },
   "outputs": [
    {
     "name": "stderr",
     "output_type": "stream",
     "text": [
      "\r",
      "[Stage 83:>                                                         (0 + 1) / 1]\r"
     ]
    },
    {
     "name": "stdout",
     "output_type": "stream",
     "text": [
      "+-----+-----+\n",
      "|label|count|\n",
      "+-----+-----+\n",
      "|    0|   97|\n",
      "|    1|   95|\n",
      "+-----+-----+\n",
      "\n"
     ]
    },
    {
     "name": "stderr",
     "output_type": "stream",
     "text": [
      "\r",
      "                                                                                \r"
     ]
    }
   ],
   "source": [
    "test_data.groupBy(\"label\").count().show()"
   ]
  },
  {
   "cell_type": "code",
   "execution_count": 47,
   "metadata": {},
   "outputs": [
    {
     "name": "stderr",
     "output_type": "stream",
     "text": [
      "22/04/21 22:23:02 WARN DAGScheduler: Broadcasting large task binary with size 1000.3 KiB\n",
      "22/04/21 22:23:02 WARN DAGScheduler: Broadcasting large task binary with size 1002.3 KiB\n",
      "22/04/21 22:23:02 WARN DAGScheduler: Broadcasting large task binary with size 1005.8 KiB\n",
      "22/04/21 22:23:02 WARN DAGScheduler: Broadcasting large task binary with size 1009.2 KiB\n",
      "22/04/21 22:23:02 WARN DAGScheduler: Broadcasting large task binary with size 1008.3 KiB\n",
      "22/04/21 22:23:02 WARN DAGScheduler: Broadcasting large task binary with size 1008.9 KiB\n",
      "22/04/21 22:23:02 WARN DAGScheduler: Broadcasting large task binary with size 1009.3 KiB\n",
      "22/04/21 22:23:03 WARN DAGScheduler: Broadcasting large task binary with size 1010.2 KiB\n",
      "22/04/21 22:23:03 WARN DAGScheduler: Broadcasting large task binary with size 1011.5 KiB\n",
      "22/04/21 22:23:03 WARN DAGScheduler: Broadcasting large task binary with size 1013.5 KiB\n",
      "22/04/21 22:23:03 WARN DAGScheduler: Broadcasting large task binary with size 1017.0 KiB\n",
      "22/04/21 22:23:03 WARN DAGScheduler: Broadcasting large task binary with size 1020.4 KiB\n",
      "22/04/21 22:23:03 WARN DAGScheduler: Broadcasting large task binary with size 1019.5 KiB\n",
      "22/04/21 22:23:03 WARN DAGScheduler: Broadcasting large task binary with size 1020.0 KiB\n",
      "22/04/21 22:23:03 WARN DAGScheduler: Broadcasting large task binary with size 1020.5 KiB\n",
      "22/04/21 22:23:03 WARN DAGScheduler: Broadcasting large task binary with size 1021.3 KiB\n",
      "22/04/21 22:23:04 WARN DAGScheduler: Broadcasting large task binary with size 1022.7 KiB\n",
      "22/04/21 22:23:04 WARN DAGScheduler: Broadcasting large task binary with size 1024.6 KiB\n",
      "22/04/21 22:23:04 WARN DAGScheduler: Broadcasting large task binary with size 1027.8 KiB\n",
      "22/04/21 22:23:04 WARN DAGScheduler: Broadcasting large task binary with size 1031.0 KiB\n",
      "22/04/21 22:23:04 WARN DAGScheduler: Broadcasting large task binary with size 1030.3 KiB\n",
      "22/04/21 22:23:04 WARN DAGScheduler: Broadcasting large task binary with size 1030.9 KiB\n",
      "22/04/21 22:23:04 WARN DAGScheduler: Broadcasting large task binary with size 1031.4 KiB\n",
      "22/04/21 22:23:04 WARN DAGScheduler: Broadcasting large task binary with size 1032.2 KiB\n",
      "22/04/21 22:23:05 WARN DAGScheduler: Broadcasting large task binary with size 1033.5 KiB\n",
      "22/04/21 22:23:05 WARN DAGScheduler: Broadcasting large task binary with size 1035.5 KiB\n",
      "22/04/21 22:23:05 WARN DAGScheduler: Broadcasting large task binary with size 1039.0 KiB\n",
      "22/04/21 22:23:05 WARN DAGScheduler: Broadcasting large task binary with size 1042.1 KiB\n",
      "22/04/21 22:23:05 WARN DAGScheduler: Broadcasting large task binary with size 1041.0 KiB\n",
      "22/04/21 22:23:05 WARN DAGScheduler: Broadcasting large task binary with size 1041.6 KiB\n",
      "22/04/21 22:23:05 WARN DAGScheduler: Broadcasting large task binary with size 1042.0 KiB\n",
      "22/04/21 22:23:05 WARN DAGScheduler: Broadcasting large task binary with size 1042.8 KiB\n",
      "22/04/21 22:23:06 WARN DAGScheduler: Broadcasting large task binary with size 1044.2 KiB\n",
      "22/04/21 22:23:06 WARN DAGScheduler: Broadcasting large task binary with size 1046.2 KiB\n",
      "22/04/21 22:23:06 WARN DAGScheduler: Broadcasting large task binary with size 1049.6 KiB\n",
      "22/04/21 22:23:06 WARN DAGScheduler: Broadcasting large task binary with size 1053.1 KiB\n",
      "22/04/21 22:23:06 WARN DAGScheduler: Broadcasting large task binary with size 1052.2 KiB\n",
      "22/04/21 22:23:06 WARN DAGScheduler: Broadcasting large task binary with size 1052.7 KiB\n",
      "22/04/21 22:23:06 WARN DAGScheduler: Broadcasting large task binary with size 1053.2 KiB\n",
      "22/04/21 22:23:06 WARN DAGScheduler: Broadcasting large task binary with size 1054.0 KiB\n",
      "22/04/21 22:23:07 WARN DAGScheduler: Broadcasting large task binary with size 1055.4 KiB\n",
      "22/04/21 22:23:07 WARN DAGScheduler: Broadcasting large task binary with size 1057.3 KiB\n",
      "22/04/21 22:23:07 WARN DAGScheduler: Broadcasting large task binary with size 1060.8 KiB\n",
      "22/04/21 22:23:07 WARN DAGScheduler: Broadcasting large task binary with size 1063.9 KiB\n",
      "22/04/21 22:23:07 WARN DAGScheduler: Broadcasting large task binary with size 1062.8 KiB\n",
      "22/04/21 22:23:07 WARN DAGScheduler: Broadcasting large task binary with size 1063.4 KiB\n",
      "22/04/21 22:23:07 WARN DAGScheduler: Broadcasting large task binary with size 1063.9 KiB\n",
      "22/04/21 22:23:08 WARN DAGScheduler: Broadcasting large task binary with size 1064.7 KiB\n",
      "22/04/21 22:23:08 WARN DAGScheduler: Broadcasting large task binary with size 1066.1 KiB\n",
      "22/04/21 22:23:08 WARN DAGScheduler: Broadcasting large task binary with size 1068.0 KiB\n",
      "22/04/21 22:23:08 WARN DAGScheduler: Broadcasting large task binary with size 1071.2 KiB\n",
      "22/04/21 22:23:08 WARN DAGScheduler: Broadcasting large task binary with size 1074.4 KiB\n",
      "22/04/21 22:23:08 WARN DAGScheduler: Broadcasting large task binary with size 1073.7 KiB\n",
      "22/04/21 22:23:08 WARN DAGScheduler: Broadcasting large task binary with size 1074.3 KiB\n",
      "22/04/21 22:23:08 WARN DAGScheduler: Broadcasting large task binary with size 1074.7 KiB\n",
      "22/04/21 22:23:09 WARN DAGScheduler: Broadcasting large task binary with size 1075.6 KiB\n",
      "22/04/21 22:23:09 WARN DAGScheduler: Broadcasting large task binary with size 1076.9 KiB\n",
      "22/04/21 22:23:09 WARN DAGScheduler: Broadcasting large task binary with size 1078.9 KiB\n",
      "22/04/21 22:23:09 WARN DAGScheduler: Broadcasting large task binary with size 1082.4 KiB\n",
      "22/04/21 22:23:09 WARN DAGScheduler: Broadcasting large task binary with size 1085.8 KiB\n",
      "22/04/21 22:23:09 WARN DAGScheduler: Broadcasting large task binary with size 1084.9 KiB\n",
      "22/04/21 22:23:09 WARN DAGScheduler: Broadcasting large task binary with size 1085.5 KiB\n",
      "22/04/21 22:23:09 WARN DAGScheduler: Broadcasting large task binary with size 1085.9 KiB\n",
      "22/04/21 22:23:10 WARN DAGScheduler: Broadcasting large task binary with size 1086.7 KiB\n",
      "22/04/21 22:23:10 WARN DAGScheduler: Broadcasting large task binary with size 1088.1 KiB\n",
      "22/04/21 22:23:10 WARN DAGScheduler: Broadcasting large task binary with size 1090.0 KiB\n",
      "22/04/21 22:23:10 WARN DAGScheduler: Broadcasting large task binary with size 1093.3 KiB\n",
      "22/04/21 22:23:10 WARN DAGScheduler: Broadcasting large task binary with size 1096.4 KiB\n",
      "22/04/21 22:23:10 WARN DAGScheduler: Broadcasting large task binary with size 1095.7 KiB\n",
      "22/04/21 22:23:10 WARN DAGScheduler: Broadcasting large task binary with size 1096.3 KiB\n",
      "22/04/21 22:23:10 WARN DAGScheduler: Broadcasting large task binary with size 1096.8 KiB\n",
      "22/04/21 22:23:11 WARN DAGScheduler: Broadcasting large task binary with size 1097.6 KiB\n",
      "22/04/21 22:23:11 WARN DAGScheduler: Broadcasting large task binary with size 1098.9 KiB\n",
      "22/04/21 22:23:11 WARN DAGScheduler: Broadcasting large task binary with size 1100.9 KiB\n",
      "22/04/21 22:23:11 WARN DAGScheduler: Broadcasting large task binary with size 1104.4 KiB\n",
      "22/04/21 22:23:11 WARN DAGScheduler: Broadcasting large task binary with size 1107.8 KiB\n",
      "22/04/21 22:23:11 WARN DAGScheduler: Broadcasting large task binary with size 1106.9 KiB\n",
      "22/04/21 22:23:11 WARN DAGScheduler: Broadcasting large task binary with size 1107.5 KiB\n",
      "22/04/21 22:23:11 WARN DAGScheduler: Broadcasting large task binary with size 1107.9 KiB\n",
      "22/04/21 22:23:12 WARN DAGScheduler: Broadcasting large task binary with size 1108.8 KiB\n",
      "22/04/21 22:23:12 WARN DAGScheduler: Broadcasting large task binary with size 1110.1 KiB\n",
      "22/04/21 22:23:12 WARN DAGScheduler: Broadcasting large task binary with size 1112.1 KiB\n",
      "22/04/21 22:23:12 WARN DAGScheduler: Broadcasting large task binary with size 1115.6 KiB\n",
      "22/04/21 22:23:12 WARN DAGScheduler: Broadcasting large task binary with size 1119.0 KiB\n",
      "22/04/21 22:23:12 WARN DAGScheduler: Broadcasting large task binary with size 1118.1 KiB\n",
      "22/04/21 22:23:12 WARN DAGScheduler: Broadcasting large task binary with size 1118.7 KiB\n",
      "22/04/21 22:23:13 WARN DAGScheduler: Broadcasting large task binary with size 1119.1 KiB\n",
      "22/04/21 22:23:13 WARN DAGScheduler: Broadcasting large task binary with size 1119.9 KiB\n",
      "22/04/21 22:23:13 WARN DAGScheduler: Broadcasting large task binary with size 1121.3 KiB\n",
      "22/04/21 22:23:13 WARN DAGScheduler: Broadcasting large task binary with size 1123.2 KiB\n",
      "22/04/21 22:23:13 WARN DAGScheduler: Broadcasting large task binary with size 1126.5 KiB\n",
      "22/04/21 22:23:13 WARN DAGScheduler: Broadcasting large task binary with size 1129.6 KiB\n",
      "22/04/21 22:23:13 WARN DAGScheduler: Broadcasting large task binary with size 1128.9 KiB\n"
     ]
    },
    {
     "name": "stderr",
     "output_type": "stream",
     "text": [
      "22/04/21 22:23:13 WARN DAGScheduler: Broadcasting large task binary with size 1129.5 KiB\n",
      "22/04/21 22:23:14 WARN DAGScheduler: Broadcasting large task binary with size 1130.0 KiB\n",
      "22/04/21 22:23:14 WARN DAGScheduler: Broadcasting large task binary with size 1130.8 KiB\n",
      "22/04/21 22:23:14 WARN DAGScheduler: Broadcasting large task binary with size 1132.1 KiB\n",
      "22/04/21 22:23:14 WARN DAGScheduler: Broadcasting large task binary with size 1134.1 KiB\n",
      "22/04/21 22:23:14 WARN DAGScheduler: Broadcasting large task binary with size 1137.6 KiB\n",
      "22/04/21 22:23:14 WARN DAGScheduler: Broadcasting large task binary with size 1140.7 KiB\n",
      "22/04/21 22:23:14 WARN DAGScheduler: Broadcasting large task binary with size 1139.6 KiB\n",
      "22/04/21 22:23:14 WARN DAGScheduler: Broadcasting large task binary with size 1140.2 KiB\n",
      "22/04/21 22:23:14 WARN DAGScheduler: Broadcasting large task binary with size 1140.6 KiB\n",
      "22/04/21 22:23:14 WARN DAGScheduler: Broadcasting large task binary with size 1141.5 KiB\n",
      "22/04/21 22:23:15 WARN DAGScheduler: Broadcasting large task binary with size 1142.8 KiB\n",
      "22/04/21 22:23:15 WARN DAGScheduler: Broadcasting large task binary with size 1144.8 KiB\n",
      "22/04/21 22:23:15 WARN DAGScheduler: Broadcasting large task binary with size 1148.3 KiB\n",
      "22/04/21 22:23:15 WARN DAGScheduler: Broadcasting large task binary with size 1151.7 KiB\n",
      "22/04/21 22:23:15 WARN DAGScheduler: Broadcasting large task binary with size 1150.8 KiB\n",
      "22/04/21 22:23:15 WARN DAGScheduler: Broadcasting large task binary with size 1151.4 KiB\n",
      "22/04/21 22:23:15 WARN DAGScheduler: Broadcasting large task binary with size 1151.8 KiB\n",
      "22/04/21 22:23:15 WARN DAGScheduler: Broadcasting large task binary with size 1152.6 KiB\n",
      "22/04/21 22:23:15 WARN DAGScheduler: Broadcasting large task binary with size 1154.0 KiB\n",
      "22/04/21 22:23:16 WARN DAGScheduler: Broadcasting large task binary with size 1156.0 KiB\n",
      "22/04/21 22:23:16 WARN DAGScheduler: Broadcasting large task binary with size 1159.5 KiB\n",
      "22/04/21 22:23:16 WARN DAGScheduler: Broadcasting large task binary with size 1162.9 KiB\n",
      "22/04/21 22:23:16 WARN DAGScheduler: Broadcasting large task binary with size 1162.0 KiB\n",
      "22/04/21 22:23:16 WARN DAGScheduler: Broadcasting large task binary with size 1162.5 KiB\n",
      "22/04/21 22:23:16 WARN DAGScheduler: Broadcasting large task binary with size 1163.0 KiB\n",
      "22/04/21 22:23:16 WARN DAGScheduler: Broadcasting large task binary with size 1163.8 KiB\n",
      "22/04/21 22:23:16 WARN DAGScheduler: Broadcasting large task binary with size 1165.2 KiB\n",
      "22/04/21 22:23:16 WARN DAGScheduler: Broadcasting large task binary with size 1167.1 KiB\n",
      "22/04/21 22:23:17 WARN DAGScheduler: Broadcasting large task binary with size 1170.3 KiB\n",
      "22/04/21 22:23:17 WARN DAGScheduler: Broadcasting large task binary with size 1173.5 KiB\n",
      "22/04/21 22:23:17 WARN DAGScheduler: Broadcasting large task binary with size 1158.9 KiB\n",
      "[Stage 2495:>                                                       (0 + 1) / 1]\r"
     ]
    },
    {
     "name": "stdout",
     "output_type": "stream",
     "text": [
      "+----------+-----+\n",
      "|prediction|count|\n",
      "+----------+-----+\n",
      "|       0.0|  100|\n",
      "|       1.0|   92|\n",
      "+----------+-----+\n",
      "\n"
     ]
    },
    {
     "name": "stderr",
     "output_type": "stream",
     "text": [
      "22/04/21 22:23:19 WARN DAGScheduler: Broadcasting large task binary with size 1143.0 KiB\n",
      "\r",
      "                                                                                \r"
     ]
    }
   ],
   "source": [
    "gbt = GBTClassifier(featuresCol=\"features\", maxIter=100,maxDepth=8)\n",
    "model = gbt.fit(train_data)\n",
    "predictions = model.transform(test_data)\n",
    "predictions.groupBy(\"prediction\").count().show()"
   ]
  },
  {
   "cell_type": "code",
   "execution_count": 48,
   "metadata": {},
   "outputs": [
    {
     "name": "stderr",
     "output_type": "stream",
     "text": [
      "22/04/21 22:23:19 WARN DAGScheduler: Broadcasting large task binary with size 1148.7 KiB\n"
     ]
    },
    {
     "data": {
      "text/plain": [
       "0.9590341833966356"
      ]
     },
     "execution_count": 48,
     "metadata": {},
     "output_type": "execute_result"
    }
   ],
   "source": [
    "# Binary classification evaluator\n",
    "evaluator = BinaryClassificationEvaluator()\n",
    "evaluator.evaluate(predictions)"
   ]
  },
  {
   "cell_type": "code",
   "execution_count": 49,
   "metadata": {},
   "outputs": [
    {
     "name": "stderr",
     "output_type": "stream",
     "text": [
      "22/04/21 22:23:19 WARN DAGScheduler: Broadcasting large task binary with size 1159.5 KiB\n"
     ]
    },
    {
     "name": "stdout",
     "output_type": "stream",
     "text": [
      "+---------------+-----+\n",
      "|fraudPrediction|count|\n",
      "+---------------+-----+\n",
      "|              1|   84|\n",
      "|              0|  108|\n",
      "+---------------+-----+\n",
      "\n"
     ]
    },
    {
     "name": "stderr",
     "output_type": "stream",
     "text": [
      "22/04/21 22:23:20 WARN DAGScheduler: Broadcasting large task binary with size 1143.2 KiB\n"
     ]
    }
   ],
   "source": [
    "\n",
    "predictions = predictions.withColumn(\"fraudPrediction\",when((predictions.label==1)&(predictions.prediction==1),1).otherwise(0))\n",
    "predictions.groupBy(\"fraudPrediction\").count().show()"
   ]
  },
  {
   "cell_type": "code",
   "execution_count": 50,
   "metadata": {},
   "outputs": [
    {
     "name": "stdout",
     "output_type": "stream",
     "text": [
      "+-----+-----+\n",
      "|label|count|\n",
      "+-----+-----+\n",
      "|    0|   97|\n",
      "|    1|   95|\n",
      "+-----+-----+\n",
      "\n"
     ]
    }
   ],
   "source": [
    "predictions.groupBy(\"label\").count().show()"
   ]
  },
  {
   "cell_type": "code",
   "execution_count": 51,
   "metadata": {},
   "outputs": [
    {
     "name": "stderr",
     "output_type": "stream",
     "text": [
      "22/04/21 22:23:37 WARN DAGScheduler: Broadcasting large task binary with size 1166.7 KiB\n",
      "22/04/21 22:23:38 WARN DAGScheduler: Broadcasting large task binary with size 1144.9 KiB\n"
     ]
    },
    {
     "data": {
      "text/plain": [
       "88.42105263157895"
      ]
     },
     "execution_count": 51,
     "metadata": {},
     "output_type": "execute_result"
    }
   ],
   "source": [
    "# Calculating accuracy\n",
    "\n",
    "from pyspark.sql.functions import col\n",
    "accurateFraud = predictions.groupBy(\"fraudPrediction\").count().where(predictions.fraudPrediction==1).head()[1]\n",
    "totalFraud = predictions.groupBy(\"label\").count().where(predictions.label==1).head()[1]\n",
    "FraudPredictionAccuracy = (accurateFraud/totalFraud)*100\n",
    "FraudPredictionAccuracy"
   ]
  },
  {
   "cell_type": "code",
   "execution_count": 52,
   "metadata": {},
   "outputs": [
    {
     "name": "stderr",
     "output_type": "stream",
     "text": [
      "22/04/21 22:23:49 WARN DAGScheduler: Broadcasting large task binary with size 1154.9 KiB\n",
      "22/04/21 22:23:50 WARN DAGScheduler: Broadcasting large task binary with size 1154.9 KiB\n",
      "22/04/21 22:23:50 WARN DAGScheduler: Broadcasting large task binary with size 1154.9 KiB\n"
     ]
    },
    {
     "name": "stdout",
     "output_type": "stream",
     "text": [
      "True Positive:  84 \n",
      "True Negative:  89 \n",
      "False Positive:  8 \n",
      "False Negative:  11\n",
      "Recall:  0.8842105263157894\n",
      "Precision:  0.9130434782608695\n"
     ]
    },
    {
     "name": "stderr",
     "output_type": "stream",
     "text": [
      "22/04/21 22:23:51 WARN DAGScheduler: Broadcasting large task binary with size 1154.9 KiB\n"
     ]
    }
   ],
   "source": [
    "# Calculating the Confusion matrix to have better understanding of the data\n",
    "\n",
    "tp = predictions[(predictions.label == 1) & (predictions.prediction == 1)].count()\n",
    "tn = predictions[(predictions.label == 0) & (predictions.prediction == 0)].count()\n",
    "fp = predictions[(predictions.label == 0) & (predictions.prediction == 1)].count()\n",
    "fn = predictions[(predictions.label == 1) & (predictions.prediction == 0)].count()\n",
    "print(\"True Positive: \",tp,\"\\nTrue Negative: \",tn,\"\\nFalse Positive: \",fp,\"\\nFalse Negative: \",fn)\n",
    "print(\"Recall: \",tp/(tp+fn))\n",
    "print(\"Precision: \", tp/(tp+fp))"
   ]
  },
  {
   "cell_type": "markdown",
   "metadata": {},
   "source": [
    "---"
   ]
  }
 ],
 "metadata": {
  "colab": {
   "name": "pyspark.ipynb",
   "provenance": []
  },
  "kernelspec": {
   "display_name": "Python 3 (ipykernel)",
   "language": "python",
   "name": "python3"
  },
  "language_info": {
   "codemirror_mode": {
    "name": "ipython",
    "version": 3
   },
   "file_extension": ".py",
   "mimetype": "text/x-python",
   "name": "python",
   "nbconvert_exporter": "python",
   "pygments_lexer": "ipython3",
   "version": "3.9.10"
  }
 },
 "nbformat": 4,
 "nbformat_minor": 1
}
